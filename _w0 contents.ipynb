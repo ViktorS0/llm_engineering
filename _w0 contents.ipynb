{
 "cells": [
  {
   "cell_type": "markdown",
   "metadata": {},
   "source": [
    "# Table of contents"
   ]
  },
  {
   "cell_type": "markdown",
   "metadata": {},
   "source": [
    "## w1 - summarize content  \n",
    "- summaries text with **openAI** or open source **Ollama** APIs\n",
    "- create a brochure from scraped web pages\n",
    "- create a technical tutor\n",
    "\n",
    "## w2 - create webapp chatbot with multi-modal AI\n",
    "Create webapp and chatbot for airline costumer service that finds the price of a ticket to a city, generates image of the city with the main tourist attractions and speaks the answer back.\n",
    "\n",
    "- day1: Anthropic and google APIs and chat between two AIs\n",
    "- day2: Web interface with Gradio\n",
    "- day3: Cerate chat with gradio \n",
    "- day4: add function calls (tools) to an AI chatbot. Add tool to find the ticket price\n",
    "- day5: Add Agents to AI - multi-modal AI\n",
    "\n",
    "## w3 - open source Gen AI\n",
    " - Hugging Face \n"
   ]
  },
  {
   "cell_type": "markdown",
   "metadata": {},
   "source": []
  }
 ],
 "metadata": {
  "language_info": {
   "name": "python"
  }
 },
 "nbformat": 4,
 "nbformat_minor": 2
}
