{
 "cells": [
  {
   "cell_type": "markdown",
   "metadata": {},
   "source": [
    "# Table of contets"
   ]
  },
  {
   "cell_type": "markdown",
   "metadata": {},
   "source": [
    "### w1 - sumarize content \n",
    "- summarie text with **openAI** or open source **Ollama** APIs\n",
    "- create a brochre from scrabed web pagies\n",
    "- cretae a tecnical tutor\n",
    "\n",
    "### w2 - create web app for chatbot\n",
    "- create web app for chatbot"
   ]
  },
  {
   "cell_type": "markdown",
   "metadata": {},
   "source": []
  }
 ],
 "metadata": {
  "language_info": {
   "name": "python"
  }
 },
 "nbformat": 4,
 "nbformat_minor": 2
}
