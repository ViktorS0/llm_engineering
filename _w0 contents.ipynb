{
 "cells": [
  {
   "cell_type": "markdown",
   "metadata": {},
   "source": [
    "# Table of contets"
   ]
  },
  {
   "cell_type": "markdown",
   "metadata": {},
   "source": [
    "### w1 - summarize content  \n",
    "- summaries text with **openAI** or open source **Ollama** APIs\n",
    "- create a brochure from scraped web pages\n",
    "- create a technical tutor\n",
    "\n",
    "### w2 - create web app for chatbot\n",
    "- Anthropic and google APIs\n",
    "- create web app for chatbot"
   ]
  },
  {
   "cell_type": "markdown",
   "metadata": {},
   "source": []
  }
 ],
 "metadata": {
  "language_info": {
   "name": "python"
  }
 },
 "nbformat": 4,
 "nbformat_minor": 2
}
